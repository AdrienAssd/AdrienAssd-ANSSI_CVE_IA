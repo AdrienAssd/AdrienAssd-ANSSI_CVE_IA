{
 "cells": [
  {
   "cell_type": "markdown",
   "id": "6a8bb66f",
   "metadata": {},
   "source": [
    "# Analyse des Avis et Alertes ANSSI avec Enrichissement des CVE"
   ]
  },
  {
   "cell_type": "markdown",
   "id": "c3ef0f61",
   "metadata": {},
   "source": [
    "## Étape 1 : Extraction des Flux RSS"
   ]
  },
  {
   "cell_type": "code",
   "execution_count": null,
   "id": "24244b34",
   "metadata": {},
   "outputs": [
    {
     "name": "stdout",
     "output_type": "stream",
     "text": [
      "Titre : Multiples vulnérabilités dans Mattermost Server (13 mai 2025)\n",
      "Description: De multiples vulnérabilités ont été découvertes dans Mattermost Server. Elles permettent à un attaquant de provoquer une atteinte à la confidentialité des données et un contournement de la politique de sécurité.\n",
      "Lien : https://www.cert.ssi.gouv.fr/avis/CERTFR-2025-AVI-0392/\n",
      "Date : Tue, 13 May 2025 00:00:00 +0000\n",
      "Titre : Multiples vulnérabilités dans les produits SAP (13 mai 2025)\n",
      "Description: De multiples vulnérabilités ont été découvertes dans les produits SAP. Certaines d'entre elles permettent à un attaquant de provoquer une exécution de code arbitraire à distance, une atteinte à la confidentialité des données et une injection de code indirecte à distance (XSS).\n",
      "Lien : https://www.cert.ssi.gouv.fr/avis/CERTFR-2025-AVI-0396/\n",
      "Date : Tue, 13 May 2025 00:00:00 +0000\n",
      "Titre : Vulnérabilité dans Roundcube (02 juin 2025)\n",
      "Description: Une vulnérabilité a été découverte dans Roundcube Roundcube Webmail. Elle permet à un attaquant de provoquer une exécution de code arbitraire à distance.\n",
      "Lien : https://www.cert.ssi.gouv.fr/avis/CERTFR-2025-AVI-0468/\n",
      "Date : Mon, 02 Jun 2025 00:00:00 +0000\n",
      "Titre : Vulnérabilité dans cURL  (04 juin 2025)\n",
      "Description: Une vulnérabilité a été découverte dans cURL. Elle permet à un attaquant de provoquer un déni de service à distance.\n",
      "Lien : https://www.cert.ssi.gouv.fr/avis/CERTFR-2025-AVI-0476/\n",
      "Date : Wed, 04 Jun 2025 00:00:00 +0000\n",
      "Titre : Multiples vulnérabilités dans les produits VMware (05 juin 2025)\n",
      "Description: De multiples vulnérabilités ont été découvertes dans VMware NSX. Elles permettent à un attaquant de provoquer une injection de code indirecte à distance (XSS).\n",
      "Lien : https://www.cert.ssi.gouv.fr/avis/CERTFR-2025-AVI-0477/\n",
      "Date : Thu, 05 Jun 2025 00:00:00 +0000\n",
      "Titre : Vulnérabilité dans Wireshark (05 juin 2025)\n",
      "Description: Une vulnérabilité a été découverte dans Wireshark. Elle permet à un attaquant de provoquer un déni de service à distance.\n",
      "Lien : https://www.cert.ssi.gouv.fr/avis/CERTFR-2025-AVI-0478/\n",
      "Date : Thu, 05 Jun 2025 00:00:00 +0000\n",
      "Titre : Multiples vulnérabilités dans les produits Cisco (05 juin 2025)\n",
      "Description: De multiples vulnérabilités ont été découvertes dans les produits Cisco. Certaines d'entre elles permettent à un attaquant de provoquer une élévation de privilèges, une atteinte à la confidentialité des données et une atteinte à l'intégrité des données.\n",
      "Lien : https://www.cert.ssi.gouv.fr/avis/CERTFR-2025-AVI-0479/\n",
      "Date : Thu, 05 Jun 2025 00:00:00 +0000\n",
      "Titre : Multiples vulnérabilités dans le noyau Linux de Red Hat (06 juin 2025)\n",
      "Description: De multiples vulnérabilités ont été découvertes dans le noyau Linux de Red Hat. Elles permettent à un attaquant de provoquer une atteinte à la confidentialité des données, un déni de service et un problème de sécurité non spécifié par l'éditeur.\n",
      "Lien : https://www.cert.ssi.gouv.fr/avis/CERTFR-2025-AVI-0480/\n",
      "Date : Fri, 06 Jun 2025 00:00:00 +0000\n",
      "Titre : Multiples vulnérabilités dans les produits IBM (06 juin 2025)\n",
      "Description: De multiples vulnérabilités ont été découvertes dans les produits IBM. Certaines d'entre elles permettent à un attaquant de provoquer une exécution de code arbitraire à distance, un déni de service à distance et une atteinte à la confidentialité des données.\n",
      "Lien : https://www.cert.ssi.gouv.fr/avis/CERTFR-2025-AVI-0481/\n",
      "Date : Fri, 06 Jun 2025 00:00:00 +0000\n",
      "Titre : Multiples vulnérabilités dans le noyau Linux de SUSE (06 juin 2025)\n",
      "Description: De multiples vulnérabilités ont été découvertes dans le noyau Linux de SUSE. Certaines d'entre elles permettent à un attaquant de provoquer un déni de service à distance, une atteinte à la confidentialité des données et un contournement de la politique de sécurité.\n",
      "Lien : https://www.cert.ssi.gouv.fr/avis/CERTFR-2025-AVI-0482/\n",
      "Date : Fri, 06 Jun 2025 00:00:00 +0000\n",
      "Titre : Vulnérabilité dans Mozilla VPN (10 juin 2025)\n",
      "Description: Une vulnérabilité a été découverte dans Mozilla VPN. Elle permet à un attaquant de provoquer une élévation de privilèges.\n",
      "Lien : https://www.cert.ssi.gouv.fr/avis/CERTFR-2025-AVI-0483/\n",
      "Date : Tue, 10 Jun 2025 00:00:00 +0000\n",
      "Titre : Vulnérabilité dans les produits HPE Aruba Networking (10 juin 2025)\n",
      "Description: Une vulnérabilité a été découverte dans HPE Aruba Networking Private 5G Core. Elle permet à un attaquant de provoquer une atteinte à la confidentialité des données.\n",
      "Lien : https://www.cert.ssi.gouv.fr/avis/CERTFR-2025-AVI-0484/\n",
      "Date : Tue, 10 Jun 2025 00:00:00 +0000\n",
      "Titre : Multiples vulnérabilités dans les produits Schneider Electric (10 juin 2025)\n",
      "Description: De multiples vulnérabilités ont été découvertes dans les produits Schneider Electric. Elles permettent à un attaquant de provoquer un déni de service à distance et une injection de code indirecte à distance (XSS).\n",
      "Lien : https://www.cert.ssi.gouv.fr/avis/CERTFR-2025-AVI-0485/\n",
      "Date : Tue, 10 Jun 2025 00:00:00 +0000\n",
      "Titre : Multiples vulnérabilités dans les produits Qnap (10 juin 2025)\n",
      "Description: De multiples vulnérabilités ont été découvertes dans les produits Qnap. Certaines d'entre elles permettent à un attaquant de provoquer une exécution de code arbitraire à distance, un déni de service à distance et une atteinte à la confidentialité des données.\n",
      "Lien : https://www.cert.ssi.gouv.fr/avis/CERTFR-2025-AVI-0486/\n",
      "Date : Tue, 10 Jun 2025 00:00:00 +0000\n",
      "Titre : Vulnérabilité dans Elastic Kibana (11 juin 2025)\n",
      "Description: Une vulnérabilité a été découverte dans Elastic Kibana. Elle permet à un attaquant de provoquer un contournement de la politique de sécurité.\n",
      "Lien : https://www.cert.ssi.gouv.fr/avis/CERTFR-2025-AVI-0494/\n",
      "Date : Wed, 11 Jun 2025 00:00:00 +0000\n",
      "Titre : Multiples vulnérabilités dans les produits Adobe (11 juin 2025)\n",
      "Description: De multiples vulnérabilités ont été découvertes dans les produits Adobe. Certaines d'entre elles permettent à un attaquant de provoquer une exécution de code arbitraire, une élévation de privilèges et un déni de service à distance.\n",
      "Lien : https://www.cert.ssi.gouv.fr/avis/CERTFR-2025-AVI-0495/\n",
      "Date : Wed, 11 Jun 2025 00:00:00 +0000\n",
      "Titre : Multiples vulnérabilités dans les produits Fortinet (11 juin 2025)\n",
      "Description: De multiples vulnérabilités ont été découvertes dans les produits Fortinet. Certaines d'entre elles permettent à un attaquant de provoquer une exécution de code arbitraire à distance, une élévation de privilèges et une atteinte à la confidentialité des données.\n",
      "Lien : https://www.cert.ssi.gouv.fr/avis/CERTFR-2025-AVI-0496/\n",
      "Date : Wed, 11 Jun 2025 00:00:00 +0000\n",
      "Titre : Vulnérabilité dans les processeurs Intel (11 juin 2025)\n",
      "Description: Une vulnérabilité a été découverte dans les processeurs Intel. Elle permet à un attaquant de provoquer un déni de service.\n",
      "Lien : https://www.cert.ssi.gouv.fr/avis/CERTFR-2025-AVI-0497/\n",
      "Date : Wed, 11 Jun 2025 00:00:00 +0000\n",
      "Titre : Vulnérabilité dans Stormshield Network Security (11 juin 2025)\n",
      "Description: Une vulnérabilité a été découverte dans Stormshield Network Security. Elle permet à un attaquant de provoquer un déni de service à distance.\n",
      "Lien : https://www.cert.ssi.gouv.fr/avis/CERTFR-2025-AVI-0488/\n",
      "Date : Wed, 11 Jun 2025 00:00:00 +0000\n",
      "Titre : Multiples vulnérabilités dans les produits Mozilla (11 juin 2025)\n",
      "Description: De multiples vulnérabilités ont été découvertes dans les produits Mozilla. Certaines d'entre elles permettent à un attaquant de provoquer un déni de service à distance, une atteinte à la confidentialité des données et un problème de sécurité non spécifié par l'éditeur.\n",
      "Lien : https://www.cert.ssi.gouv.fr/avis/CERTFR-2025-AVI-0491/\n",
      "Date : Wed, 11 Jun 2025 00:00:00 +0000\n",
      "Titre : Multiples vulnérabilités dans Google Chrome (11 juin 2025)\n",
      "Description: De multiples vulnérabilités ont été découvertes dans Google Chrome. Elles permettent à un attaquant de provoquer un problème de sécurité non spécifié par l'éditeur.\n",
      "Lien : https://www.cert.ssi.gouv.fr/avis/CERTFR-2025-AVI-0489/\n",
      "Date : Wed, 11 Jun 2025 00:00:00 +0000\n",
      "Titre : Multiples vulnérabilités dans les produits Siemens (11 juin 2025)\n",
      "Description: De multiples vulnérabilités ont été découvertes dans les produits Siemens. Certaines d'entre elles permettent à un attaquant de provoquer une exécution de code arbitraire à distance, une élévation de privilèges et un déni de service à distance.\n",
      "Lien : https://www.cert.ssi.gouv.fr/avis/CERTFR-2025-AVI-0492/\n",
      "Date : Wed, 11 Jun 2025 00:00:00 +0000\n",
      "Titre : Multiples vulnérabilités dans les produits Centreon (11 juin 2025)\n",
      "Description: De multiples vulnérabilités ont été découvertes dans les produits Centreon. Elles permettent à un attaquant de provoquer une exécution de code arbitraire à distance et un problème de sécurité non spécifié par l'éditeur.\n",
      "Lien : https://www.cert.ssi.gouv.fr/avis/CERTFR-2025-AVI-0493/\n",
      "Date : Wed, 11 Jun 2025 00:00:00 +0000\n",
      "Titre : Multiples vulnérabilités dans les produits SAP (11 juin 2025)\n",
      "Description: De multiples vulnérabilités ont été découvertes dans les produits SAP. Certaines d'entre elles permettent à un attaquant de provoquer une atteinte à la confidentialité des données, une atteinte à l'intégrité des données et une falsification de requêtes côté serveur (SSRF).\n",
      "Lien : https://www.cert.ssi.gouv.fr/avis/CERTFR-2025-AVI-0487/\n",
      "Date : Wed, 11 Jun 2025 00:00:00 +0000\n",
      "Titre : Multiples vulnérabilités dans Ivanti Workspace Control (IWC) (11 juin 2025)\n",
      "Description: De multiples vulnérabilités ont été découvertes dans Ivanti Workspace Control (IWC). Elles permettent à un attaquant de provoquer une atteinte à la confidentialité des données.\n",
      "Lien : https://www.cert.ssi.gouv.fr/avis/CERTFR-2025-AVI-0490/\n",
      "Date : Wed, 11 Jun 2025 00:00:00 +0000\n",
      "Titre : Multiples vulnérabilités dans Microsoft Office (11 juin 2025)\n",
      "Description: De multiples vulnérabilités ont été découvertes dans Microsoft Office. Elles permettent à un attaquant de provoquer une exécution de code arbitraire.\n",
      "Lien : https://www.cert.ssi.gouv.fr/avis/CERTFR-2025-AVI-0498/\n",
      "Date : Wed, 11 Jun 2025 00:00:00 +0000\n",
      "Titre : Multiples vulnérabilités dans Microsoft Windows (11 juin 2025)\n",
      "Description: De multiples vulnérabilités ont été découvertes dans Microsoft Windows. Certaines d'entre elles permettent à un attaquant de provoquer une exécution de code arbitraire à distance, une élévation de privilèges et un déni de service à distance. Microsoft indique que la vulnérabilité CVE-2025-33053...\n",
      "Lien : https://www.cert.ssi.gouv.fr/avis/CERTFR-2025-AVI-0499/\n",
      "Date : Wed, 11 Jun 2025 00:00:00 +0000\n",
      "Titre : Vulnérabilité dans Microsoft .Net (11 juin 2025)\n",
      "Description: Une vulnérabilité a été découverte dans Microsoft .Net. Elle permet à un attaquant de provoquer une exécution de code arbitraire à distance.\n",
      "Lien : https://www.cert.ssi.gouv.fr/avis/CERTFR-2025-AVI-0500/\n",
      "Date : Wed, 11 Jun 2025 00:00:00 +0000\n",
      "Titre : Multiples vulnérabilités dans les produits Microsoft (11 juin 2025)\n",
      "Description: De multiples vulnérabilités ont été découvertes dans les produits Microsoft. Elles permettent à un attaquant de provoquer une exécution de code arbitraire à distance, une élévation de privilèges et un contournement de la politique de sécurité.\n",
      "Lien : https://www.cert.ssi.gouv.fr/avis/CERTFR-2025-AVI-0501/\n",
      "Date : Wed, 11 Jun 2025 00:00:00 +0000\n",
      "Titre : Multiples vulnérabilités dans GitLab (12 juin 2025)\n",
      "Description: De multiples vulnérabilités ont été découvertes dans GitLab. Certaines d'entre elles permettent à un attaquant de provoquer un déni de service à distance, une atteinte à la confidentialité des données et une atteinte à l'intégrité des données.\n",
      "Lien : https://www.cert.ssi.gouv.fr/avis/CERTFR-2025-AVI-0502/\n",
      "Date : Thu, 12 Jun 2025 00:00:00 +0000\n",
      "Titre : Multiples vulnérabilités dans les produits Mitel (12 juin 2025)\n",
      "Description: Une vulnérabilité a été découverte dans les produits Mitel. Elle permet à un attaquant de provoquer une atteinte à la confidentialité des données et une atteinte à l'intégrité des données.\n",
      "Lien : https://www.cert.ssi.gouv.fr/avis/CERTFR-2025-AVI-0503/\n",
      "Date : Thu, 12 Jun 2025 00:00:00 +0000\n",
      "Titre : Vulnérabilité dans les produits Moxa (12 juin 2025)\n",
      "Description: Une vulnérabilité a été découverte dans les produits Moxa. Elle permet à un attaquant de provoquer un déni de service à distance.\n",
      "Lien : https://www.cert.ssi.gouv.fr/avis/CERTFR-2025-AVI-0504/\n",
      "Date : Thu, 12 Jun 2025 00:00:00 +0000\n",
      "Titre : Multiples vulnérabilités dans les produits Palo Alto Networks (12 juin 2025)\n",
      "Description: De multiples vulnérabilités ont été découvertes dans les produits Palo Alto Networks. Certaines d'entre elles permettent à un attaquant de provoquer une exécution de code arbitraire à distance, une élévation de privilèges et un contournement de la politique de sécurité. Palo Alto Networks a...\n",
      "Lien : https://www.cert.ssi.gouv.fr/avis/CERTFR-2025-AVI-0505/\n",
      "Date : Thu, 12 Jun 2025 00:00:00 +0000\n",
      "Titre : Vulnérabilité dans Spring Framework (13 juin 2025)\n",
      "Description: Une vulnérabilité a été découverte dans Spring Framework. Elle permet à un attaquant de provoquer une exécution de code arbitraire à distance.\n",
      "Lien : https://www.cert.ssi.gouv.fr/avis/CERTFR-2025-AVI-0506/\n",
      "Date : Fri, 13 Jun 2025 00:00:00 +0000\n",
      "Titre : Multiples vulnérabilités dans Tenable Nessus Agent (13 juin 2025)\n",
      "Description: De multiples vulnérabilités ont été découvertes dans Tenable Nessus Agent. Elles permettent à un attaquant de provoquer une élévation de privilèges et une atteinte à l'intégrité des données.\n",
      "Lien : https://www.cert.ssi.gouv.fr/avis/CERTFR-2025-AVI-0507/\n",
      "Date : Fri, 13 Jun 2025 00:00:00 +0000\n",
      "Titre : Multiples vulnérabilités dans les produits Splunk (13 juin 2025)\n",
      "Description: De multiples vulnérabilités ont été découvertes dans les produits Splunk. Elles permettent à un attaquant de provoquer un problème de sécurité non spécifié par l'éditeur.\n",
      "Lien : https://www.cert.ssi.gouv.fr/avis/CERTFR-2025-AVI-0508/\n",
      "Date : Fri, 13 Jun 2025 00:00:00 +0000\n",
      "Titre : Multiples vulnérabilités dans le noyau Linux de SUSE (13 juin 2025)\n",
      "Description: De multiples vulnérabilités ont été découvertes dans le noyau Linux de SUSE. Certaines d'entre elles permettent à un attaquant de provoquer une exécution de code arbitraire, une élévation de privilèges et une atteinte à la confidentialité des données.\n",
      "Lien : https://www.cert.ssi.gouv.fr/avis/CERTFR-2025-AVI-0509/\n",
      "Date : Fri, 13 Jun 2025 00:00:00 +0000\n",
      "Titre : Multiples vulnérabilités dans le noyau Linux de Red Hat (13 juin 2025)\n",
      "Description: De multiples vulnérabilités ont été découvertes dans le noyau Linux de Red Hat. Elles permettent à un attaquant de provoquer une atteinte à la confidentialité des données et un déni de service.\n",
      "Lien : https://www.cert.ssi.gouv.fr/avis/CERTFR-2025-AVI-0510/\n",
      "Date : Fri, 13 Jun 2025 00:00:00 +0000\n",
      "Titre : Multiples vulnérabilités dans les produits Google (13 juin 2025)\n",
      "Description: De multiples vulnérabilités ont été découvertes dans les produits Google. Certaines d'entre elles permettent à un attaquant de provoquer une exécution de code arbitraire à distance, une élévation de privilèges et une atteinte à la confidentialité des données.\n",
      "Lien : https://www.cert.ssi.gouv.fr/avis/CERTFR-2025-AVI-0511/\n",
      "Date : Fri, 13 Jun 2025 00:00:00 +0000\n",
      "Titre : Multiples vulnérabilités dans les produits IBM (13 juin 2025)\n",
      "Description: De multiples vulnérabilités ont été découvertes dans les produits IBM. Certaines d'entre elles permettent à un attaquant de provoquer une exécution de code arbitraire à distance, un déni de service à distance et une atteinte à la confidentialité des données.\n",
      "Lien : https://www.cert.ssi.gouv.fr/avis/CERTFR-2025-AVI-0512/\n",
      "Date : Fri, 13 Jun 2025 00:00:00 +0000\n"
     ]
    }
   ],
   "source": [
    "# faire \"pip install feedparser\" si besoin dans le terminal \n",
    "import feedparser\n",
    "url = \"https://www.cert.ssi.gouv.fr/avis/feed\"\n",
    "rss_feed = feedparser.parse(url)\n",
    "for entry in rss_feed.entries:\n",
    "    print(\"Titre :\", entry.title)\n",
    "    print(\"Description:\", entry.description)\n",
    "    print(\"Lien :\", entry.link)\n",
    "    print(\"Date :\", entry.published)"
   ]
  },
  {
   "cell_type": "markdown",
   "id": "6296090d",
   "metadata": {},
   "source": [
    "## Étape 2 : Extraction des CVE"
   ]
  },
  {
   "cell_type": "code",
   "execution_count": 4,
   "id": "5f8717c0",
   "metadata": {},
   "outputs": [
    {
     "name": "stdout",
     "output_type": "stream",
     "text": [
      "CVE référencés  [{'name': 'CVE-2023-46805', 'url': 'https://www.cve.org/CVERecord?id=CVE-2023-46805'}, {'name': 'CVE-2024-21887', 'url': 'https://www.cve.org/CVERecord?id=CVE-2024-21887'}, {'name': 'CVE-2024-21893', 'url': 'https://www.cve.org/CVERecord?id=CVE-2024-21893'}, {'name': 'CVE-2024-21888', 'url': 'https://www.cve.org/CVERecord?id=CVE-2024-21888'}, {'name': 'CVE-2024-22024', 'url': 'https://www.cve.org/CVERecord?id=CVE-2024-22024'}]\n",
      "CVE trouvés : ['CVE-2024-21893', 'CVE-2024-21888', 'CVE-2024-22024', 'CVE-2024-21887', 'CVE-2023-46805']\n"
     ]
    }
   ],
   "source": [
    "import requests\n",
    "import re\n",
    "url = \"https://www.cert.ssi.gouv.fr/alerte/CERTFR-2024-ALE-001/json/\"\n",
    "response = requests.get(url)\n",
    "data = response.json()\n",
    "#Extraction des CVE reference dans la clé cves du dict data\n",
    "ref_cves=list(data[\"cves\"])\n",
    "#attention il s’agit d’une liste des dictionnaires avec name et url comme clés\n",
    "print( \"CVE référencés \", ref_cves)\n",
    "# Extraction des CVE avec une regex\n",
    "cve_pattern = r\"CVE-\\d{4}-\\d{4,7}\"\n",
    "cve_list = list(set(re.findall(cve_pattern, str(data))))\n",
    "print(\"CVE trouvés :\", cve_list)"
   ]
  },
  {
   "cell_type": "markdown",
   "id": "72e63857",
   "metadata": {},
   "source": [
    "## Étape 3 : Enrichissement des CVE"
   ]
  },
  {
   "cell_type": "markdown",
   "id": "8f6691a5",
   "metadata": {},
   "source": [
    "### Exemple de connexion à l'API CVE :"
   ]
  },
  {
   "cell_type": "code",
   "execution_count": 5,
   "id": "4a6f64c7",
   "metadata": {},
   "outputs": [
    {
     "name": "stdout",
     "output_type": "stream",
     "text": [
      "Éditeur : Citrix, Produit : Citrix ADC and Citrix Gateway , Versions : 13.1,13.0,12.1,12.1-FIPS ,13.1-FIPS ,12.1-NDcPP\n",
      "CVE : CVE-2023-24488\n",
      "Description : Cross site scripting vulnerability in Citrix ADC and Citrix Gateway  in allows and attacker to perform cross site scripting\n",
      "Score CVSS : 6.1\n",
      "Type CWE : CWE-79\n",
      "CWE Description : CWE-79 Improper Neutralization of Input During Web Page Generation ('Cross-site Scripting')\n"
     ]
    }
   ],
   "source": [
    "# import requests\n",
    "cve_id = \"CVE-2023-24488\"\n",
    "url = f\"https://cveawg.mitre.org/api/cve/{cve_id}\"\n",
    "response = requests.get(url)\n",
    "data = response.json()\n",
    "\n",
    "# Extraire la description\n",
    "description = data[\"containers\"][\"cna\"][\"descriptions\"][0][\"value\"]\n",
    "# Extraire le score CVSS\n",
    "#ATTENTION tous les CVE ne contiennent pas nécessairement ce champ, gérez l’exception,\n",
    "#ou peut etre au lieu de cvssV3_0 c’est cvssV3_1 ou autre clé\n",
    "cvss_score =data[\"containers\"][\"cna\"][\"metrics\"][0][\"cvssV3_1\"][\"baseScore\"]\n",
    "\n",
    "cwe = \"Non disponible\"\n",
    "cwe_desc=\"Non disponible\"\n",
    "problemtype = data[\"containers\"][\"cna\"].get(\"problemTypes\", {})\n",
    "if problemtype and \"descriptions\" in problemtype[0]:\n",
    "    cwe = problemtype[0][\"descriptions\"][0].get(\"cweId\",\"Non disponible\")\n",
    "    cwe_desc=problemtype[0][\"descriptions\"][0].get(\"description\",\"Non disponible\")\n",
    "\n",
    "# Extraire les produits affectés\n",
    "affected = data[\"containers\"][\"cna\"][\"affected\"]\n",
    "for product in affected:\n",
    "    vendor = product[\"vendor\"]\n",
    "    product_name = product[\"product\"]\n",
    "    versions = [v[\"version\"] for v in product[\"versions\"] if v[\"status\"] == \"affected\"]\n",
    "    print(f\"Éditeur : {vendor}, Produit : {product_name}, Versions : {','.join(versions)}\")\n",
    "\n",
    "# Afficher les résultats\n",
    "print(f\"CVE : {cve_id}\")\n",
    "print(f\"Description : {description}\")\n",
    "print(f\"Score CVSS : {cvss_score}\")\n",
    "print(f\"Type CWE : {cwe}\")\n",
    "print(f\"CWE Description : {cwe_desc}\")"
   ]
  },
  {
   "cell_type": "markdown",
   "id": "8f01ed68",
   "metadata": {},
   "source": [
    "### Exemple de connexion à l’API EPSS:"
   ]
  },
  {
   "cell_type": "code",
   "execution_count": 6,
   "id": "93ebde34",
   "metadata": {},
   "outputs": [
    {
     "name": "stdout",
     "output_type": "stream",
     "text": [
      "CVE : CVE-2023-46805\n",
      "Score EPSS : 0.943980000\n"
     ]
    }
   ],
   "source": [
    "import requests\n",
    "# URL de l'API EPSS pour récupérer la probabilité d'exploitation\n",
    "cve_id = \"CVE-2023-46805\"\n",
    "url = f\"https://api.first.org/data/v1/epss?cve={cve_id}\"\n",
    "# Requête GET pour récupérer les données JSON\n",
    "response = requests.get(url)\n",
    "data = response.json()\n",
    "# Extraire le score EPSS\n",
    "epss_data = data.get(\"data\", [])\n",
    "if epss_data:\n",
    "    epss_score = epss_data[0][\"epss\"]\n",
    "    print(f\"CVE : {cve_id}\")\n",
    "    print(f\"Score EPSS : {epss_score}\")\n",
    "else:\n",
    "    print(f\"Aucun score EPSS trouvé pour {cve_id}\")"
   ]
  }
 ],
 "metadata": {
  "kernelspec": {
   "display_name": "base",
   "language": "python",
   "name": "python3"
  },
  "language_info": {
   "codemirror_mode": {
    "name": "ipython",
    "version": 3
   },
   "file_extension": ".py",
   "mimetype": "text/x-python",
   "name": "python",
   "nbconvert_exporter": "python",
   "pygments_lexer": "ipython3",
   "version": "3.12.7"
  }
 },
 "nbformat": 4,
 "nbformat_minor": 5
}
